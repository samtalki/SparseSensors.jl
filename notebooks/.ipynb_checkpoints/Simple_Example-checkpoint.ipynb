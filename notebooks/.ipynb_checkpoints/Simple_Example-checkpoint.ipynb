{
 "cells": [
  {
   "cell_type": "code",
   "execution_count": 16,
   "id": "48b0b5e4",
   "metadata": {},
   "outputs": [],
   "source": [
    "using Revise\n",
    "using SparseSensors\n",
    "using SpecialMatrices\n",
    "using LinearAlgebra\n",
    "using Gadfly"
   ]
  },
  {
   "cell_type": "code",
   "execution_count": null,
   "id": "5a003ce4",
   "metadata": {},
   "outputs": [],
   "source": []
  },
  {
   "cell_type": "code",
   "execution_count": 17,
   "id": "60de502b",
   "metadata": {},
   "outputs": [
    {
     "data": {
      "text/plain": [
       "1001×11 Matrix{Float64}:\n",
       " 1.0  0.0    0.0       0.0       0.0        …  0.0          0.0\n",
       " 1.0  0.001  1.0e-6    1.0e-9    1.0e-12       1.0e-27      1.0e-30\n",
       " 1.0  0.002  4.0e-6    8.0e-9    1.6e-11       5.12e-25     1.024e-27\n",
       " 1.0  0.003  9.0e-6    2.7e-8    8.1e-11       1.9683e-23   5.9049e-26\n",
       " 1.0  0.004  1.6e-5    6.4e-8    2.56e-10      2.62144e-22  1.04858e-24\n",
       " 1.0  0.005  2.5e-5    1.25e-7   6.25e-10   …  1.95313e-21  9.76563e-24\n",
       " 1.0  0.006  3.6e-5    2.16e-7   1.296e-9      1.00777e-20  6.04662e-23\n",
       " 1.0  0.007  4.9e-5    3.43e-7   2.401e-9      4.03536e-20  2.82475e-22\n",
       " 1.0  0.008  6.4e-5    5.12e-7   4.096e-9      1.34218e-19  1.07374e-21\n",
       " 1.0  0.009  8.1e-5    7.29e-7   6.561e-9      3.8742e-19   3.48678e-21\n",
       " 1.0  0.01   0.0001    1.0e-6    1.0e-8     …  1.0e-18      1.0e-20\n",
       " 1.0  0.011  0.000121  1.331e-6  1.4641e-8     2.35795e-18  2.59374e-20\n",
       " 1.0  0.012  0.000144  1.728e-6  2.0736e-8     5.15978e-18  6.19174e-20\n",
       " ⋮                                          ⋱               ⋮\n",
       " 1.0  0.989  0.978121  0.967362  0.956721      0.905246     0.895288\n",
       " 1.0  0.99   0.9801    0.970299  0.960596   …  0.913517     0.904382\n",
       " 1.0  0.991  0.982081  0.973242  0.964483      0.921856     0.913559\n",
       " 1.0  0.992  0.984064  0.976191  0.968382      0.930262     0.922819\n",
       " 1.0  0.993  0.986049  0.979147  0.972293      0.938735     0.932164\n",
       " 1.0  0.994  0.988036  0.982108  0.976215      0.947278     0.941594\n",
       " 1.0  0.995  0.990025  0.985075  0.98015    …  0.95589      0.95111\n",
       " 1.0  0.996  0.992016  0.988048  0.984096      0.964571     0.960712\n",
       " 1.0  0.997  0.994009  0.991027  0.988054      0.973322     0.970402\n",
       " 1.0  0.998  0.996004  0.994012  0.992024      0.982143     0.980179\n",
       " 1.0  0.999  0.998001  0.997003  0.996006      0.991036     0.990045\n",
       " 1.0  1.0    1.0       1.0       1.0        …  1.0          1.0"
      ]
     },
     "execution_count": 17,
     "metadata": {},
     "output_type": "execute_result"
    }
   ],
   "source": [
    "r = 11 # Number of basis modes\n",
    "n = 1000\n",
    "x = collect(0.0:1/n:1.0)\n",
    "basis = VandermondeBasis(x,r)\n",
    "basis_matrix = vde.Ψ"
   ]
  },
  {
   "cell_type": "code",
   "execution_count": 20,
   "id": "0c575c71",
   "metadata": {},
   "outputs": [
    {
     "data": {
      "text/plain": [
       "(1001, 11)"
      ]
     },
     "execution_count": 20,
     "metadata": {},
     "output_type": "execute_result"
    }
   ],
   "source": [
    "X = copy(basis_matrix)\n",
    "n_samples,n_features = size(X)"
   ]
  },
  {
   "cell_type": "code",
   "execution_count": 21,
   "id": "118dacc2",
   "metadata": {},
   "outputs": [
    {
     "data": {
      "text/plain": [
       "11-element Vector{Int64}:\n",
       " 1001\n",
       "  642\n",
       "    1\n",
       "  885\n",
       "  290\n",
       "  471\n",
       "  100\n",
       "  959\n",
       "  764\n",
       "   37\n",
       "  195"
      ]
     },
     "execution_count": 21,
     "metadata": {},
     "output_type": "execute_result"
    }
   ],
   "source": [
    "qr_pivot = QRPivot(X)\n",
    "fit(qr_pivot)\n",
    "pivots = qr_pivot.pivots\n"
   ]
  },
  {
   "cell_type": "code",
   "execution_count": 73,
   "id": "db664377",
   "metadata": {},
   "outputs": [
    {
     "data": {
      "text/plain": [
       "1001-element Vector{Int64}:\n",
       " 1001\n",
       " 1000\n",
       "  998\n",
       "  993\n",
       "  983\n",
       "  962\n",
       "  919\n",
       "    1\n",
       "  824\n",
       "  633\n",
       "  292\n",
       "   12\n",
       "   13\n",
       "    ⋮\n",
       "  990\n",
       "  991\n",
       "  992\n",
       "    4\n",
       "  994\n",
       "  995\n",
       "  996\n",
       "  997\n",
       "    3\n",
       "  999\n",
       "    2\n",
       "    8"
      ]
     },
     "execution_count": 73,
     "metadata": {},
     "output_type": "execute_result"
    }
   ],
   "source": [
    "qr_pivot = QRPivot(X)\n",
    "fit(qr_pivot)\n",
    "pivots = qr_pivot.pivots\n"
   ]
  },
  {
   "cell_type": "code",
   "execution_count": 75,
   "id": "c8b1752e",
   "metadata": {},
   "outputs": [
    {
     "name": "stdout",
     "output_type": "stream",
     "text": [
      "[1001, 1000, 998, 993, 983, 962, 919, 1, 824, 633, 292, 12, 13, 14, 15]"
     ]
    }
   ],
   "source": [
    "print(pivots[1:15])"
   ]
  },
  {
   "cell_type": "code",
   "execution_count": 64,
   "id": "2736fc47",
   "metadata": {},
   "outputs": [],
   "source": [
    "f = abs.(x.^2 .- 0.5);"
   ]
  },
  {
   "cell_type": "code",
   "execution_count": 43,
   "id": "b0985ce4",
   "metadata": {},
   "outputs": [
    {
     "data": {
      "text/plain": [
       "11×1001 Matrix{Float64}:\n",
       " -0.00661117  -0.0066159  -0.00662065  …  -0.26124    -0.328298    -0.442475\n",
       " -0.0150949   -0.0151032  -0.0151116       0.191557    0.297198     0.485056\n",
       " -0.0220278   -0.0220318  -0.0220357      -0.0135615  -0.149451    -0.417442\n",
       " -0.0275877   -0.0275753  -0.0275629      -0.139811    0.00414628   0.347969\n",
       " -0.0324392   -0.0323952  -0.0323511       0.230489    0.110218    -0.290434\n",
       " -0.0368816   -0.036787   -0.0366922   …  -0.259596   -0.191556     0.242778\n",
       " -0.0410343   -0.0408662  -0.0406982       0.241531    0.24445     -0.202698\n",
       " -0.0449578   -0.0446899  -0.0444222      -0.192815   -0.274698     0.168791\n",
       " -0.0486905   -0.0482925  -0.0478952       0.127692    0.287675    -0.140116\n",
       "  0.0522591    0.0516971   0.051137        0.0569594   0.28791     -0.115938\n",
       " -0.0556835   -0.05492    -0.0541602   …  -0.0118742   0.279075    -0.095631"
      ]
     },
     "execution_count": 43,
     "metadata": {},
     "output_type": "execute_result"
    }
   ],
   "source": [
    "qr_pivot.Ψ"
   ]
  },
  {
   "cell_type": "code",
   "execution_count": null,
   "id": "231c92cd",
   "metadata": {},
   "outputs": [],
   "source": []
  }
 ],
 "metadata": {
  "kernelspec": {
   "display_name": "Julia 1.6.0",
   "language": "julia",
   "name": "julia-1.6"
  },
  "language_info": {
   "file_extension": ".jl",
   "mimetype": "application/julia",
   "name": "julia",
   "version": "1.6.1"
  }
 },
 "nbformat": 4,
 "nbformat_minor": 5
}
